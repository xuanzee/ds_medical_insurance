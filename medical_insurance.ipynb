{
 "cells": [
  {
   "cell_type": "markdown",
   "id": "1a35e711",
   "metadata": {},
   "source": [
    "# Medical Insurance Project"
   ]
  },
  {
   "cell_type": "markdown",
   "id": "f99e0aa0",
   "metadata": {},
   "source": [
    "Developing a system with a `class` that makes it easier to organize patient data. The `class` does the following:\n",
    "- Takes in patient parameters regarding their personal information\n",
    "- Contains methods that allow users to update their information\n",
    "- Gives patients insight into their potential medical fees."
   ]
  },
  {
   "cell_type": "markdown",
   "id": "1fa7e1c0",
   "metadata": {},
   "source": [
    "## Building the Constructor"
   ]
  },
  {
   "cell_type": "code",
   "execution_count": 1,
   "id": "271950a3",
   "metadata": {},
   "outputs": [],
   "source": [
    "class Patient:\n",
    "    def __init__(self, name, age, sex, bmi, num_of_children, smoker):\n",
    "        self.name = name\n",
    "        self.age = age\n",
    "        self.sex = sex\n",
    "        self.bmi = bmi\n",
    "        self.num_of_children = num_of_children\n",
    "        self.smoker = smoker"
   ]
  },
  {
   "cell_type": "code",
   "execution_count": 2,
   "id": "2d9efff6",
   "metadata": {},
   "outputs": [],
   "source": [
    "patient1 = Patient(\"John Doe\", 25, 1, 22.2, 0, 0)"
   ]
  },
  {
   "cell_type": "code",
   "execution_count": 3,
   "id": "caea625d",
   "metadata": {},
   "outputs": [
    {
     "name": "stdout",
     "output_type": "stream",
     "text": [
      "John Doe\n",
      "25\n",
      "1\n",
      "22.2\n",
      "0\n",
      "0\n"
     ]
    }
   ],
   "source": [
    "print(patient1.name)\n",
    "print(patient1.age)\n",
    "print(patient1.sex)\n",
    "print(patient1.bmi)\n",
    "print(patient1.num_of_children)\n",
    "print(patient1.smoker)"
   ]
  },
  {
   "cell_type": "markdown",
   "id": "153c37a5",
   "metadata": {},
   "source": [
    "## Adding Functionality with Methods"
   ]
  },
  {
   "cell_type": "markdown",
   "id": "466da76e",
   "metadata": {},
   "source": [
    "### Calculating Cost"
   ]
  },
  {
   "cell_type": "code",
   "execution_count": 4,
   "id": "0592dd7b",
   "metadata": {},
   "outputs": [],
   "source": [
    "class Patient:\n",
    "    def __init__(self, name, age, sex, bmi, num_of_children, smoker):\n",
    "        self.name = name\n",
    "        self.age = age\n",
    "        self.sex = sex\n",
    "        self.bmi = bmi\n",
    "        self.num_of_children = num_of_children\n",
    "        self.smoker = smoker\n",
    "    def estimated_insurance_cost(self):\n",
    "        estimated_cost = 250 * self.age - 128 * self.sex + 370 * self.bmi + 425 * self.num_of_children \\\n",
    "                        + 24000 * self.smoker - 12500\n",
    "        print(\"{patient_name}'s estimated insurance costs is {estimated_cost} dollars.\"\\\n",
    "              .format(patient_name=self.name, estimated_cost=estimated_cost))"
   ]
  },
  {
   "cell_type": "code",
   "execution_count": 5,
   "id": "0ed10504",
   "metadata": {},
   "outputs": [],
   "source": [
    "patient1 = Patient(\"John Doe\", 25, 1, 22.2, 0, 0)"
   ]
  },
  {
   "cell_type": "code",
   "execution_count": 6,
   "id": "00fe10e9",
   "metadata": {},
   "outputs": [
    {
     "name": "stdout",
     "output_type": "stream",
     "text": [
      "John Doe's estimated insurance costs is 1836.0 dollars.\n"
     ]
    }
   ],
   "source": [
    "patient1.estimated_insurance_cost()"
   ]
  },
  {
   "cell_type": "markdown",
   "id": "c132ad29",
   "metadata": {},
   "source": [
    "### Allowing Edits"
   ]
  },
  {
   "cell_type": "code",
   "execution_count": 7,
   "id": "66b32d96",
   "metadata": {},
   "outputs": [],
   "source": [
    "class Patient:\n",
    "    def __init__(self, name, age, sex, bmi, num_of_children, smoker):\n",
    "        self.name = name\n",
    "        self.age = age\n",
    "        self.sex = sex\n",
    "        self.bmi = bmi\n",
    "        self.num_of_children = num_of_children\n",
    "        self.smoker = smoker\n",
    "    def estimated_insurance_cost(self):\n",
    "        estimated_cost = 250 * self.age - 128 * self.sex + 370 * self.bmi + 425 * self.num_of_children \\\n",
    "                        + 24000 * self.smoker - 12500\n",
    "        print(\"{patient_name}'s estimated insurance costs is {estimated_cost} dollars.\"\\\n",
    "              .format(patient_name=self.name, estimated_cost=estimated_cost))\n",
    "    def update_age(self, new_age):\n",
    "        self.age = new_age\n",
    "        print(self.name + ' is now ' + str(self.age) + ' years old.')\n",
    "        self.estimated_insurance_cost()\n",
    "    def update_num_children(self, new_num_children):\n",
    "        self.num_of_children = new_num_children\n",
    "        if self.num_of_children == 1:\n",
    "            print(self.name + ' has ' + str(self.num_of_children) + ' child.')\n",
    "        else:\n",
    "            print(self.name + ' has ' + str(self.num_of_children) + ' children.')\n",
    "        self.estimated_insurance_cost()"
   ]
  },
  {
   "cell_type": "code",
   "execution_count": 8,
   "id": "39a0b425",
   "metadata": {},
   "outputs": [],
   "source": [
    "patient1 = Patient(\"John Doe\", 25, 1, 22.2, 0, 0)"
   ]
  },
  {
   "cell_type": "code",
   "execution_count": 9,
   "id": "1e518574",
   "metadata": {},
   "outputs": [
    {
     "name": "stdout",
     "output_type": "stream",
     "text": [
      "John Doe is now 26 years old.\n",
      "John Doe's estimated insurance costs is 2086.0 dollars.\n"
     ]
    }
   ],
   "source": [
    "patient1.update_age(26)"
   ]
  },
  {
   "cell_type": "code",
   "execution_count": 10,
   "id": "cd98f4a6",
   "metadata": {},
   "outputs": [
    {
     "name": "stdout",
     "output_type": "stream",
     "text": [
      "John Doe has 1 child.\n",
      "John Doe's estimated insurance costs is 2511.0 dollars.\n"
     ]
    }
   ],
   "source": [
    "patient1.update_num_children(1)"
   ]
  },
  {
   "cell_type": "markdown",
   "id": "8d03d380",
   "metadata": {},
   "source": [
    "## Storing Patient Information"
   ]
  },
  {
   "cell_type": "code",
   "execution_count": 11,
   "id": "1ce4289e",
   "metadata": {},
   "outputs": [],
   "source": [
    "class Patient:\n",
    "    def __init__(self, name, age, sex, bmi, num_of_children, smoker):\n",
    "        self.name = name\n",
    "        self.age = age\n",
    "        self.sex = sex\n",
    "        self.bmi = bmi\n",
    "        self.num_of_children = num_of_children\n",
    "        self.smoker = smoker\n",
    "    def estimated_insurance_cost(self):\n",
    "        estimated_cost = 250 * self.age - 128 * self.sex + 370 * self.bmi + 425 * self.num_of_children \\\n",
    "                        + 24000 * self.smoker - 12500\n",
    "        print(\"{patient_name}'s estimated insurance costs is {estimated_cost} dollars.\"\\\n",
    "              .format(patient_name=self.name, estimated_cost=estimated_cost))\n",
    "    def update_age(self, new_age):\n",
    "        self.age = new_age\n",
    "        print(self.name + ' is now ' + str(self.age) + ' years old.')\n",
    "        self.estimated_insurance_cost()\n",
    "    def update_num_children(self, new_num_children):\n",
    "        self.num_of_children = new_num_children\n",
    "        if self.num_of_children == 1:\n",
    "            print(self.name + ' has ' + str(self.num_of_children) + ' child.')\n",
    "        else:\n",
    "            print(self.name + ' has ' + str(self.num_of_children) + ' children.')\n",
    "        self.estimated_insurance_cost()\n",
    "    def patient_profile(self):\n",
    "        patient_information = {'Name': self.name, 'Age': self.age, 'Sex': self.sex,\n",
    "                              'BMI': self.bmi, 'Num_of_Children': self.num_of_children,\n",
    "                               'Smoker': self.smoker}\n",
    "        return patient_information"
   ]
  },
  {
   "cell_type": "code",
   "execution_count": 12,
   "id": "e83a02cf",
   "metadata": {},
   "outputs": [],
   "source": [
    "patient1 = Patient(\"John Doe\", 25, 1, 22.2, 0, 0)"
   ]
  },
  {
   "cell_type": "code",
   "execution_count": 13,
   "id": "900ec5a9",
   "metadata": {},
   "outputs": [
    {
     "name": "stdout",
     "output_type": "stream",
     "text": [
      "{'Name': 'John Doe', 'Age': 25, 'Sex': 1, 'BMI': 22.2, 'Num_of_Children': 0, 'Smoker': 0}\n"
     ]
    }
   ],
   "source": [
    "print(patient1.patient_profile())"
   ]
  },
  {
   "cell_type": "markdown",
   "id": "41304151",
   "metadata": {},
   "source": [
    "## Improving Methods"
   ]
  },
  {
   "cell_type": "code",
   "execution_count": 14,
   "id": "40b27771",
   "metadata": {},
   "outputs": [],
   "source": [
    "class Patient:\n",
    "    def __init__(self, info_list): #Info in Bulk\n",
    "        for i in (1, len(info_list)-1): \n",
    "        #Use `try` and `except` statements to ensure that data is numerical where applicable.\n",
    "            try:\n",
    "                info_list[i] == int(info_list[i])\n",
    "            except:\n",
    "                print('Non-numeric values not allowed.')\n",
    "                raise SystemExit\n",
    "        self.name = info_list[0]\n",
    "        self.age = info_list[1]\n",
    "        self.sex = info_list[2]\n",
    "        self.bmi = info_list[3]\n",
    "        self.num_of_children = info_list[4]\n",
    "        self.smoker = info_list[5]\n",
    "    def estimated_insurance_cost(self):\n",
    "        estimated_cost = 250 * self.age - 128 * self.sex + 370 * self.bmi + 425 * self.num_of_children \\\n",
    "                        + 24000 * self.smoker - 12500\n",
    "        print(\"{patient_name}'s estimated insurance costs is {estimated_cost} dollars.\"\\\n",
    "              .format(patient_name=self.name, estimated_cost=estimated_cost))\n",
    "    def patient_profile(self):\n",
    "        patient_information = {'Name': self.name, 'Age': self.age, 'Sex': self.sex,\n",
    "                              'BMI': self.bmi, 'Num_of_Children': self.num_of_children,\n",
    "                               'Smoker': self.smoker}\n",
    "        return patient_information\n",
    "    def update_patient_info(self, new_info_list): #Updating in Bulk\n",
    "        self.name = new_info_list[0]\n",
    "        self.age = new_info_list[1]\n",
    "        self.sex = new_info_list[2]\n",
    "        self.bmi = new_info_list[3]\n",
    "        self.num_of_children = new_info_list[4]\n",
    "        self.smoker = new_info_list[5]\n",
    "        print('Patient info updated as below:')\n",
    "        print(self.patient_profile())\n",
    "        self.estimated_insurance_cost()"
   ]
  },
  {
   "cell_type": "code",
   "execution_count": 15,
   "id": "cc7fe027",
   "metadata": {},
   "outputs": [],
   "source": [
    "patient1 = Patient([\"John Doe\", 25, 1, 22.2, 0, 0])"
   ]
  },
  {
   "cell_type": "code",
   "execution_count": 16,
   "id": "eafe7ce9",
   "metadata": {},
   "outputs": [
    {
     "name": "stdout",
     "output_type": "stream",
     "text": [
      "{'Name': 'John Doe', 'Age': 25, 'Sex': 1, 'BMI': 22.2, 'Num_of_Children': 0, 'Smoker': 0}\n"
     ]
    }
   ],
   "source": [
    "print(patient1.patient_profile())"
   ]
  },
  {
   "cell_type": "code",
   "execution_count": 17,
   "id": "e5dd026d",
   "metadata": {},
   "outputs": [
    {
     "name": "stdout",
     "output_type": "stream",
     "text": [
      "Patient info updated as below:\n",
      "{'Name': 'John Doe', 'Age': 26, 'Sex': 1, 'BMI': 22.2, 'Num_of_Children': 1, 'Smoker': 0}\n",
      "John Doe's estimated insurance costs is 2511.0 dollars.\n"
     ]
    }
   ],
   "source": [
    "patient1.update_patient_info(['John Doe', 26, 1, 22.2, 1, 0])"
   ]
  },
  {
   "cell_type": "code",
   "execution_count": null,
   "id": "38654822",
   "metadata": {},
   "outputs": [],
   "source": []
  }
 ],
 "metadata": {
  "kernelspec": {
   "display_name": "Python 3 (ipykernel)",
   "language": "python",
   "name": "python3"
  },
  "language_info": {
   "codemirror_mode": {
    "name": "ipython",
    "version": 3
   },
   "file_extension": ".py",
   "mimetype": "text/x-python",
   "name": "python",
   "nbconvert_exporter": "python",
   "pygments_lexer": "ipython3",
   "version": "3.10.9"
  }
 },
 "nbformat": 4,
 "nbformat_minor": 5
}
